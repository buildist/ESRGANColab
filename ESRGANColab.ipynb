{
  "nbformat": 4,
  "nbformat_minor": 0,
  "metadata": {
    "colab": {
      "name": "ESRGANColab.ipynb",
      "version": "0.3.2",
      "provenance": [],
      "collapsed_sections": [],
      "include_colab_link": true
    },
    "kernelspec": {
      "name": "python3",
      "display_name": "Python 3"
    },
    "accelerator": "GPU"
  },
  "cells": [
    {
      "cell_type": "markdown",
      "metadata": {
        "id": "view-in-github",
        "colab_type": "text"
      },
      "source": [
        "<a href=\"https://colab.research.google.com/github/buildist/ESRGANColab/blob/master/ESRGANColab.ipynb\" target=\"_parent\"><img src=\"https://colab.research.google.com/assets/colab-badge.svg\" alt=\"Open In Colab\"/></a>"
      ]
    },
    {
      "cell_type": "code",
      "metadata": {
        "id": "SO_zKEdtdIwA",
        "colab_type": "code",
        "colab": {}
      },
      "source": [
        "# 1. Initial setup (run once)\n",
        "\n",
        "!git clone https://github.com/xinntao/ESRGAN.git\n",
        "%cd ESRGAN\n",
        "!git checkout tags/old-arch"
      ],
      "execution_count": 0,
      "outputs": []
    },
    {
      "cell_type": "code",
      "metadata": {
        "id": "qksg_ysppXyj",
        "colab_type": "code",
        "cellView": "both",
        "colab": {}
      },
      "source": [
        "# 2. Add models (run once per model file)\n",
        "# Must be direct download URL pointing to a .pth file.\n",
        "\n",
        "model_url = \"https://www.dropbox.com/s/vouc15j8jjp2o5n/RRDB_ESRGAN_x4_old_arch.pth?dl=0\"\n",
        "!wget $model_url --content-disposition -P models"
      ],
      "execution_count": 0,
      "outputs": []
    },
    {
      "cell_type": "code",
      "metadata": {
        "id": "O1BozRHHsFdq",
        "colab_type": "code",
        "colab": {}
      },
      "source": [
        "# 3a. Upload images\n",
        "\n",
        "%cd LR\n",
        "from google.colab import files\n",
        "files.upload()\n",
        "%cd .."
      ],
      "execution_count": 0,
      "outputs": []
    },
    {
      "cell_type": "code",
      "metadata": {
        "id": "-QCUrVEstlam",
        "colab_type": "code",
        "colab": {}
      },
      "source": [
        "# 3b. Or add images by URL\n",
        "\n",
        "image_url = \"\"\n",
        "!wget $image_url --content-disposition -P LR"
      ],
      "execution_count": 0,
      "outputs": []
    },
    {
      "cell_type": "code",
      "metadata": {
        "id": "pxOoGx2peioU",
        "colab_type": "code",
        "cellView": "form",
        "colab": {}
      },
      "source": [
        "#@title 4. Upscale!\n",
        "\n",
        "model_name = 'RRDB_ESRGAN_x4_old_arch.pth' #@param {type:\"string\"}\n",
        "upscale = 4 #@param {type:\"number\"}\n",
        "\n",
        "import sys\n",
        "import os.path\n",
        "import glob\n",
        "import cv2\n",
        "import numpy as np\n",
        "import torch\n",
        "import architecture as arch\n",
        "from IPython import display as ipythondisplay\n",
        "from IPython.display import Image as ipythonimage\n",
        "\n",
        "device = torch.device('cuda')\n",
        "model = arch.RRDB_Net(3, 3, 64, 23, gc=32, upscale=upscale, norm_type=None, act_type='leakyrelu', \\\n",
        "                        mode='CNA', res_scale=1, upsample_mode='upconv')\n",
        "model.load_state_dict(torch.load('models/{:s}'.format(model_name)), strict=True)\n",
        "model.eval()\n",
        "for k, v in model.named_parameters():\n",
        "    v.requires_grad = False\n",
        "model = model.to(device)\n",
        "\n",
        "for path in glob.glob('LR/*'):\n",
        "    base = os.path.splitext(os.path.basename(path))[0]\n",
        "    img = cv2.imread(path, cv2.IMREAD_COLOR)\n",
        "    img = img * 1.0 / 255\n",
        "    img = torch.from_numpy(np.transpose(img[:, :, [2, 1, 0]], (2, 0, 1))).float()\n",
        "    img_LR = img.unsqueeze(0)\n",
        "    img_LR = img_LR.to(device)\n",
        "\n",
        "    output = model(img_LR).data.squeeze().float().cpu().clamp_(0, 1).numpy()\n",
        "    output = np.transpose(output[[2, 1, 0], :, :], (1, 2, 0))\n",
        "    output = (output * 255.0).round()\n",
        "    path = 'results/{:s}_rlt.png'.format(base)\n",
        "    cv2.imwrite(path, output)\n",
        "    ipythondisplay.display(ipythonimage(str(path)))"
      ],
      "execution_count": 0,
      "outputs": []
    },
    {
      "cell_type": "code",
      "metadata": {
        "id": "07Dz5bTLzU_C",
        "colab_type": "code",
        "colab": {}
      },
      "source": [
        "# 5. Remove LR images (run when needed)\n",
        "\n",
        "!rm LR/*.*"
      ],
      "execution_count": 0,
      "outputs": []
    }
  ]
}
